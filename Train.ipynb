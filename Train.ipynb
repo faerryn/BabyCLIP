{
 "cells": [
  {
   "cell_type": "code",
   "execution_count": null,
   "metadata": {},
   "outputs": [],
   "source": [
    "import torch\n",
    "import torch.utils.data as data\n",
    "import torch.nn as nn\n",
    "import torch.optim as optim\n",
    "from tqdm import tqdm"
   ]
  },
  {
   "cell_type": "code",
   "execution_count": null,
   "metadata": {},
   "outputs": [],
   "source": [
    "DEVICE = 'cuda:3' if torch.cuda.is_available() else 'cpu'\n",
    "print(f'Using {DEVICE}')"
   ]
  },
  {
   "cell_type": "code",
   "execution_count": null,
   "metadata": {},
   "outputs": [],
   "source": [
    "class BadNet(nn.Module):\n",
    "    def __init__(self, token_dim=77, output_dim=1024, normalize=False):\n",
    "        super(BadNet, self).__init__()\n",
    "        self.seq = nn.Sequential(\n",
    "            nn.Linear(token_dim, 128),\n",
    "            nn.ReLU(),\n",
    "            nn.Linear(128, 128),\n",
    "            nn.ReLU(),\n",
    "            nn.Linear(128, 128),\n",
    "            nn.ReLU(),\n",
    "            nn.Linear(128, output_dim),\n",
    "        )\n",
    "        self.normalize = normalize\n",
    "\n",
    "    def forward(self, x):\n",
    "        x = self.seq(x)\n",
    "        if self.normalize:\n",
    "            x = nn.functional.normalize(x, dim=-1)\n",
    "        return x"
   ]
  },
  {
   "cell_type": "code",
   "execution_count": null,
   "metadata": {},
   "outputs": [],
   "source": [
    "class BabySet(data.Dataset):\n",
    "    def __init__(self, token_file, feature_file):\n",
    "        self.features = torch.load(feature_file)\n",
    "        self.tokens = torch.load(token_file)\n",
    "        assert(self.features.shape[0] == self.tokens.shape[0])\n",
    "    \n",
    "    def __len__(self):\n",
    "        return self.features.shape[0]\n",
    "    \n",
    "    def __getitem__(self, index):\n",
    "        return  self.tokens[index], self.features[index]\n",
    "\n",
    "babyset = BabySet( './data/tokens.pt', './data/features.pt')\n",
    "print(len(babyset))\n",
    "print(babyset[0])\n",
    "\n",
    "trainset, validset, testset = data.random_split(babyset, [0.8, 0.1, 0.1])"
   ]
  },
  {
   "cell_type": "code",
   "execution_count": null,
   "metadata": {},
   "outputs": [],
   "source": [
    "BATCH_SIZE = 128\n",
    "NUM_WORKERS = 8\n",
    "\n",
    "trainloader = data.DataLoader(trainset, shuffle=True, batch_size=BATCH_SIZE, num_workers=NUM_WORKERS)\n",
    "validloader = data.DataLoader(validset, shuffle=True, batch_size=BATCH_SIZE, num_workers=NUM_WORKERS)\n",
    "testloader = data.DataLoader(testset, shuffle=True, batch_size=BATCH_SIZE, num_workers=NUM_WORKERS)"
   ]
  },
  {
   "cell_type": "code",
   "execution_count": null,
   "metadata": {},
   "outputs": [],
   "source": [
    "def run_epoch(model, dataloader, optimizer, criterion, metric, train, verbose=False):\n",
    "    if train:\n",
    "        model.train()\n",
    "    else:\n",
    "        model.eval()\n",
    "    with torch.set_grad_enabled(train):\n",
    "        t = tqdm(dataloader)\n",
    "        losses = torch.zeros(len(t))\n",
    "        accs = torch.zeros(len(t))\n",
    "        for i, (X, y) in enumerate(t):\n",
    "            X, y = X.to(DEVICE), y.to(DEVICE)\n",
    "            pred = model(X)\n",
    "            loss = criterion(pred, y)\n",
    "            if train:\n",
    "                loss.backward()\n",
    "                optimizer.step()\n",
    "            acc = metric(pred, y).mean()\n",
    "            if verbose:\n",
    "                t.set_description(f'Loss = {loss:.4f}, Accuracy = {acc * 100:02.2f}%')\n",
    "            losses[i] = loss.detach().cpu().item()\n",
    "            accs[i] = acc.detach().cpu().item()\n",
    "    return losses, accs"
   ]
  },
  {
   "cell_type": "code",
   "execution_count": null,
   "metadata": {},
   "outputs": [],
   "source": [
    "model = BadNet(normalize=False).to(DEVICE)\n",
    "optimizer = optim.Adam(model.parameters(), lr=1e-4)\n",
    "criterion = nn.MSELoss()\n",
    "metric = nn.CosineSimilarity()\n",
    "\n",
    "EPOCHS = 10\n",
    "\n",
    "train_losses = []\n",
    "train_accs = []\n",
    "valid_losses = []\n",
    "valid_accs = []\n",
    "for epoch in range(EPOCHS):\n",
    "    print(f'===== EPOCH {epoch+1:02} =====')\n",
    "    print('Training...')\n",
    "    epoch_train_losses, epoch_train_accs = run_epoch(model, trainloader, optimizer, criterion, metric, train=True)\n",
    "    train_losses.append(epoch_train_losses.mean())\n",
    "    train_accs.append(epoch_train_accs.mean())\n",
    "    print(f'Epoch Train Loss = {train_losses[-1]:.4f}, Epoch Train Accuracy = {train_accs[-1] * 100:02.2f}%')\n",
    "\n",
    "    print('Validating...')\n",
    "    epoch_valid_losses, epoch_valid_accs = run_epoch(model, validloader, optimizer, criterion, metric, train=False)\n",
    "    valid_losses.append(epoch_valid_losses.mean())\n",
    "    valid_accs.append(epoch_valid_accs.mean())\n",
    "    print(f'Epoch Validation Loss = {valid_losses[-1]:.4f}, Epoch Validation Accuracy = {valid_accs[-1] * 100:02.2f}%')\n",
    "\n",
    "print(f'===== TESTING =====')\n",
    "test_losses, test_accs = run_epoch(model, testloader, optimizer, criterion, metric, train=False)\n",
    "print(f'Test Loss = {test_losses.mean():.4f}, Test Accuracy = {test_accs.mean() * 100:02.2f}%')"
   ]
  }
 ],
 "metadata": {
  "kernelspec": {
   "display_name": "deep-gen-venv",
   "language": "python",
   "name": "python3"
  },
  "language_info": {
   "codemirror_mode": {
    "name": "ipython",
    "version": 3
   },
   "file_extension": ".py",
   "mimetype": "text/x-python",
   "name": "python",
   "nbconvert_exporter": "python",
   "pygments_lexer": "ipython3",
   "version": "3.8.10"
  }
 },
 "nbformat": 4,
 "nbformat_minor": 2
}
